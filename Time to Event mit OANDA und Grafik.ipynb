{
 "cells": [
  {
   "cell_type": "code",
   "execution_count": 1,
   "id": "973a869a",
   "metadata": {},
   "outputs": [
    {
     "name": "stdout",
     "output_type": "stream",
     "text": [
      "Ticker: NL25_EUR\n",
      "Durchschnittliche Zeit bis zum Event: 1.0\n",
      "Median der Zeit bis zum Event: 1\n",
      "Schnellster Fund: 607.07\n",
      "Zeit bis zum Event: 1\n",
      "Event beim schnellsten Fund: +2% erreicht\n",
      "\n"
     ]
    },
    {
     "data": {
      "image/png": "[encoded data removed]",
      "text/plain": [
       "<Figure size 432x288 with 1 Axes>"
      ]
     },
     "metadata": {
      "needs_background": "light"
     },
     "output_type": "display_data"
    }
   ],
   "source": [
    "import random\n",
    "import oandapyV20\n",
    "from oandapyV20 import API\n",
    "from oandapyV20.exceptions import V20Error\n",
    "from oandapyV20.endpoints.instruments import InstrumentsCandles\n",
    "\n",
    "def get_historical_prices(instrument, count):\n",
    "    access_token = \"e11aadc917842adf254cd73c038c4e0a-321ea21ac5697ab46036807f5e5e943d\"\n",
    "\n",
    "    api = API(access_token=access_token, environment=\"practice\")\n",
    "    params = {\n",
    "        \"granularity\": \"H2\",\n",
    "        \"count\": count,\n",
    "    }\n",
    "    request = InstrumentsCandles(instrument=instrument, params=params)\n",
    "    \n",
    "    try:\n",
    "        response = api.request(request)\n",
    "        candles = response[\"candles\"]\n",
    "        prices = [float(candle[\"mid\"][\"c\"]) for candle in candles]\n",
    "        volumes = [int(candle[\"volume\"]) for candle in candles]\n",
    "        return prices, volumes\n",
    "    except V20Error as e:\n",
    "        print(\"Fehler beim Abrufen der historischen Preise:\", e)\n",
    "        return [], []\n",
    "\n",
    "def monte_carlo_simulation(prices, volumes, target_growth, target_decline):\n",
    "    num_simulations = 1000\n",
    "    time_to_event = []\n",
    "    \n",
    "    fastest_fund = None\n",
    "    fastest_time = float('inf')\n",
    "    fastest_event = None\n",
    "    \n",
    "    for _ in range(num_simulations):\n",
    "        simulated_returns = random.choices(prices, k=len(prices))\n",
    "        simulated_volumes = random.choices(volumes, k=len(volumes))\n",
    "        fund_value = 1.0\n",
    "        time = 0\n",
    "        \n",
    "        while fund_value < 1 + target_growth and fund_value > 1 - target_decline:\n",
    "            if time >= len(simulated_returns):\n",
    "                break\n",
    "            growth_factor = simulated_returns[time]\n",
    "            volume_factor = simulated_volumes[time]\n",
    "            fund_value *= growth_factor\n",
    "            fund_value *= volume_factor\n",
    "            time += 1\n",
    "        \n",
    "        time_to_event.append(time)\n",
    "        \n",
    "        if time < fastest_time:\n",
    "            fastest_time = time\n",
    "            fastest_fund = prices[0]  # Erster Wert der Preise verwenden\n",
    "            if fund_value >= 1 + target_growth:\n",
    "                fastest_event = \"+2% erreicht\"\n",
    "            else:\n",
    "                fastest_event = \"-2% erreicht\"\n",
    "    \n",
    "    return time_to_event, fastest_fund, fastest_time, fastest_event\n",
    "\n",
    "# Tickers der Indexfonds\n",
    "tickers = ['SPX500_USD', 'JP225_USD', 'DE30_EUR', 'AU200_AUD', 'CN50_USD', 'EU50_EUR', 'FR40_EUR', 'NL25_EUR']\n",
    "\n",
    "# Monte-Carlo-Simulation durchführen\n",
    "target_growth = 0.02  # 2% Wachstumsziel\n",
    "target_decline = 0.02  # 2% Rückgangsziel\n",
    "count = 5000  # Anzahl der zurückliegenden Werte\n",
    "\n",
    "for ticker in tickers:\n",
    "    prices, volumes = get_historical_prices(ticker, count)\n",
    "    \n",
    "    if len(prices) == 0 or len(volumes) == 0:\n",
    "        print(\"Fehler beim Abrufen der historischen Preise für Ticker:\", ticker)\n",
    "        continue\n",
    "    \n",
    "    time_to_event, fastest_fund, fastest_time, fastest_event = monte_carlo_simulation(prices, volumes, target_growth, target_decline)\n",
    "    \n",
    "import matplotlib.pyplot as plt\n",
    "\n",
    "# ...\n",
    "\n",
    "# Ergebnisse anzeigen\n",
    "print(\"Ticker:\", ticker)\n",
    "print(\"Durchschnittliche Zeit bis zum Event:\", sum(time_to_event) / len(time_to_event))\n",
    "print(\"Median der Zeit bis zum Event:\", sorted(time_to_event)[len(time_to_event) // 2])\n",
    "print(\"Schnellster Fund:\", fastest_fund)\n",
    "print(\"Zeit bis zum Event:\", fastest_time)\n",
    "print(\"Event beim schnellsten Fund:\", fastest_event)\n",
    "print()\n",
    "\n",
    "# Verteilung der Zeit bis zum Event grafisch darstellen\n",
    "plt.hist(time_to_event, bins=20)\n",
    "plt.xlabel(\"Zeit bis zum Event\")\n",
    "plt.ylabel(\"Anzahl der Simulationen\")\n",
    "plt.title(\"Verteilung der Zeit bis zum Event für Ticker \" + ticker)\n",
    "plt.show()\n",
    "\n",
    "\n"
   ]
  },
  {
   "cell_type": "code",
   "execution_count": null,
   "id": "d686d5ef",
   "metadata": {},
   "outputs": [],
   "source": []
  }
 ],
 "metadata": {
  "kernelspec": {
   "display_name": "Python 3 (ipykernel)",
   "language": "python",
   "name": "python3"
  },
  "language_info": {
   "codemirror_mode": {
    "name": "ipython",
    "version": 3
   },
   "file_extension": ".py",
   "mimetype": "text/x-python",
   "name": "python",
   "nbconvert_exporter": "python",
   "pygments_lexer": "ipython3",
   "version": "3.9.12"
  }
 },
 "nbformat": 4,
 "nbformat_minor": 5
}
